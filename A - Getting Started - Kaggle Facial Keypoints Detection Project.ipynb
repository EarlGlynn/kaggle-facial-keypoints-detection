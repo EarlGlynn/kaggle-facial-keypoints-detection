{
 "cells": [
  {
   "cell_type": "markdown",
   "metadata": {},
   "source": [
    "# Kaggle Facial Keypoints Detection Project\n",
    "\n",
    "[Kaggle page](https://www.kaggle.com/c/facial-keypoints-detection/details/getting-started-with-r)\n",
    "\n",
    "efg, 29 Nov 2015\n",
    "\n",
    "## Getting Started\n",
    "\n",
    "## Setup\n",
    "Assumes data downloaded from Kaggle site and unzipped into files `training.csv` and `test.csv` in directory `dataDir` specified below.  Processed data will also be saved in `dataDir`.\n",
    "\n",
    "Assumes TRAIN and TEST images will be created in subdirectories below directory `imageDir` specified below."
   ]
  },
  {
   "cell_type": "code",
   "execution_count": 1,
   "metadata": {
    "collapsed": false
   },
   "outputs": [
    {
     "name": "stdout",
     "output_type": "stream",
     "text": [
      "2015-11-29 14:59:41 \n"
     ]
    }
   ],
   "source": [
    "time1 <- Sys.time()          \n",
    "cat(format(time1, \"%Y-%m-%d %H:%M:%S\"), \"\\n\")"
   ]
  },
  {
   "cell_type": "code",
   "execution_count": 2,
   "metadata": {
    "collapsed": false
   },
   "outputs": [],
   "source": [
    "library(png)         # writePNG\n",
    "\n",
    "dataDir   <- 'C:/Kaggle/2015/Facial-Keypoints/data'\n",
    "trainFile <- file.path(dataDir, 'training.csv')\n",
    "testFile  <- file.path(dataDir, 'test.csv')\n",
    "\n",
    "imageDir <- 'C:/Kaggle/2015/Facial-Keypoints/image'"
   ]
  },
  {
   "cell_type": "markdown",
   "metadata": {},
   "source": [
    "## Parallel processing"
   ]
  },
  {
   "cell_type": "code",
   "execution_count": 3,
   "metadata": {
    "collapsed": false
   },
   "outputs": [
    {
     "name": "stderr",
     "output_type": "stream",
     "text": [
      "Loading required package: foreach\n",
      "Loading required package: iterators\n",
      "Loading required package: parallel\n"
     ]
    }
   ],
   "source": [
    "library(doParallel)  # foreach\n",
    "rCluster <- makePSOCKcluster(6)     # Use 6 cores\n",
    "registerDoParallel(rCluster)"
   ]
  },
  {
   "cell_type": "markdown",
   "metadata": {},
   "source": [
    "## Training Set"
   ]
  },
  {
   "cell_type": "code",
   "execution_count": 4,
   "metadata": {
    "collapsed": false
   },
   "outputs": [
    {
     "data": {
      "text/html": [
       "<ol class=list-inline>\n",
       "\t<li>7049</li>\n",
       "\t<li>31</li>\n",
       "</ol>\n"
      ],
      "text/latex": [
       "\\begin{enumerate*}\n",
       "\\item 7049\n",
       "\\item 31\n",
       "\\end{enumerate*}\n"
      ],
      "text/markdown": [
       "1. 7049\n",
       "2. 31\n",
       "\n",
       "\n"
      ],
      "text/plain": [
       "[1] 7049   31"
      ]
     },
     "execution_count": 4,
     "metadata": {},
     "output_type": "execute_result"
    }
   ],
   "source": [
    "dTrain <- read.csv(trainFile, stringsAsFactors=FALSE)\n",
    "dim(dTrain)"
   ]
  },
  {
   "cell_type": "code",
   "execution_count": 5,
   "metadata": {
    "collapsed": false
   },
   "outputs": [
    {
     "name": "stdout",
     "output_type": "stream",
     "text": [
      "'data.frame':\t7049 obs. of  31 variables:\n",
      " $ left_eye_center_x        : num  66 64.3 65.1 65.2 66.7 ...\n",
      " $ left_eye_center_y        : num  39 35 34.9 37.3 39.6 ...\n",
      " $ right_eye_center_x       : num  30.2 29.9 30.9 32 32.2 ...\n",
      " $ right_eye_center_y       : num  36.4 33.4 34.9 37.3 38 ...\n",
      " $ left_eye_inner_corner_x  : num  59.6 58.9 59.4 60 58.6 ...\n",
      " $ left_eye_inner_corner_y  : num  39.6 35.3 36.3 39.1 39.6 ...\n",
      " $ left_eye_outer_corner_x  : num  73.1 70.7 71 72.3 72.5 ...\n",
      " $ left_eye_outer_corner_y  : num  40 36.2 36.3 38.4 39.9 ...\n",
      " $ right_eye_inner_corner_x : num  36.4 36 37.7 37.6 37 ...\n",
      " $ right_eye_inner_corner_y : num  37.4 34.4 36.3 38.8 39.1 ...\n",
      " $ right_eye_outer_corner_x : num  23.5 24.5 25 25.3 22.5 ...\n",
      " $ right_eye_outer_corner_y : num  37.4 33.1 36.6 38 38.3 ...\n",
      " $ left_eyebrow_inner_end_x : num  57 54 55.7 56.4 57.2 ...\n",
      " $ left_eyebrow_inner_end_y : num  29 28.3 27.6 30.9 30.7 ...\n",
      " $ left_eyebrow_outer_end_x : num  80.2 78.6 78.9 77.9 77.8 ...\n",
      " $ left_eyebrow_outer_end_y : num  32.2 30.4 32.7 31.7 31.7 ...\n",
      " $ right_eyebrow_inner_end_x: num  40.2 42.7 42.2 41.7 38 ...\n",
      " $ right_eyebrow_inner_end_y: num  29 26.1 28.1 31 30.9 ...\n",
      " $ right_eyebrow_outer_end_x: num  16.4 16.9 16.8 20.5 15.9 ...\n",
      " $ right_eyebrow_outer_end_y: num  29.6 27.1 32.1 29.9 30.7 ...\n",
      " $ nose_tip_x               : num  44.4 48.2 47.6 51.9 43.3 ...\n",
      " $ nose_tip_y               : num  57.1 55.7 53.5 54.2 64.9 ...\n",
      " $ mouth_left_corner_x      : num  61.2 56.4 60.8 65.6 60.7 ...\n",
      " $ mouth_left_corner_y      : num  80 76.4 73 72.7 77.5 ...\n",
      " $ mouth_right_corner_x     : num  28.6 35.1 33.7 37.2 31.2 ...\n",
      " $ mouth_right_corner_y     : num  77.4 76 72.7 74.2 77 ...\n",
      " $ mouth_center_top_lip_x   : num  43.3 46.7 47.3 50.3 45 ...\n",
      " $ mouth_center_top_lip_y   : num  72.9 70.3 70.2 70.1 73.7 ...\n",
      " $ mouth_center_bottom_lip_x: num  43.1 45.5 47.3 51.6 44.2 ...\n",
      " $ mouth_center_bottom_lip_y: num  84.5 85.5 78.7 78.3 86.9 ...\n",
      " $ Image                    : chr  \"238 236 237 238 240 240 239 241 241 243 240 239 231 212 190 173 148 122 104 92 79 73 74 73 73 74 81 74 60 64 75 86 93 102 100 1\"| __truncated__ \"219 215 204 196 204 211 212 200 180 168 178 196 194 196 203 209 199 192 197 201 207 215 199 190 182 180 183 190 190 176 175 175\"| __truncated__ \"144 142 159 180 188 188 184 180 167 132 84 59 54 57 62 61 55 54 56 50 60 78 85 86 88 89 90 90 88 89 91 94 95 98 99 101 104 107 \"| __truncated__ \"193 192 193 194 194 194 193 192 168 111 50 12 1 1 1 1 1 1 1 1 1 1 6 16 19 17 13 13 16 22 25 31 34 27 15 19 16 19 17 13 9 6 3 1 \"| __truncated__ ...\n"
     ]
    }
   ],
   "source": [
    "str(dTrain)"
   ]
  },
  {
   "cell_type": "code",
   "execution_count": 6,
   "metadata": {
    "collapsed": false
   },
   "outputs": [
    {
     "data": {
      "text/html": [
       "<ol class=list-inline>\n",
       "\t<li>7049</li>\n",
       "\t<li>9216</li>\n",
       "</ol>\n"
      ],
      "text/latex": [
       "\\begin{enumerate*}\n",
       "\\item 7049\n",
       "\\item 9216\n",
       "\\end{enumerate*}\n"
      ],
      "text/markdown": [
       "1. 7049\n",
       "2. 9216\n",
       "\n",
       "\n"
      ],
      "text/plain": [
       "[1] 7049 9216"
      ]
     },
     "execution_count": 6,
     "metadata": {},
     "output_type": "execute_result"
    }
   ],
   "source": [
    "imTrain <- foreach(im = dTrain$Image, .combine=rbind) %dopar%\n",
    "{\n",
    "  as.integer(unlist(strsplit(im, \" \")))\n",
    "}\n",
    "dTrain$Image <- NULL      # Remove from data.frame\n",
    "dim(imTrain)"
   ]
  },
  {
   "cell_type": "code",
   "execution_count": 7,
   "metadata": {
    "collapsed": false
   },
   "outputs": [
    {
     "data": {
      "text/html": [
       "<table>\n",
       "<thead><tr><th></th><th scope=col>left_eye_center_x</th><th scope=col>left_eye_center_y</th><th scope=col>right_eye_center_x</th><th scope=col>right_eye_center_y</th><th scope=col>left_eye_inner_corner_x</th><th scope=col>left_eye_inner_corner_y</th><th scope=col>left_eye_outer_corner_x</th><th scope=col>left_eye_outer_corner_y</th><th scope=col>right_eye_inner_corner_x</th><th scope=col>right_eye_inner_corner_y</th><th scope=col>right_eye_outer_corner_x</th><th scope=col>right_eye_outer_corner_y</th><th scope=col>left_eyebrow_inner_end_x</th><th scope=col>left_eyebrow_inner_end_y</th><th scope=col>left_eyebrow_outer_end_x</th><th scope=col>left_eyebrow_outer_end_y</th><th scope=col>right_eyebrow_inner_end_x</th><th scope=col>right_eyebrow_inner_end_y</th><th scope=col>right_eyebrow_outer_end_x</th><th scope=col>right_eyebrow_outer_end_y</th><th scope=col>nose_tip_x</th><th scope=col>nose_tip_y</th><th scope=col>mouth_left_corner_x</th><th scope=col>mouth_left_corner_y</th><th scope=col>mouth_right_corner_x</th><th scope=col>mouth_right_corner_y</th><th scope=col>mouth_center_top_lip_x</th><th scope=col>mouth_center_top_lip_y</th><th scope=col>mouth_center_bottom_lip_x</th><th scope=col>mouth_center_bottom_lip_y</th></tr></thead>\n",
       "<tbody>\n",
       "\t<tr><th scope=row>1</th><td>66.03356</td><td>39.00227</td><td>30.22701</td><td>36.42168</td><td>59.58208</td><td>39.64742</td><td>73.13035</td><td>39.97</td><td>36.35657</td><td>37.3894</td><td>23.45287</td><td>37.3894</td><td>56.95326</td><td>29.03365</td><td>80.22713</td><td>32.22814</td><td>40.22761</td><td>29.00232</td><td>16.35638</td><td>29.64747</td><td>44.42057</td><td>57.0668</td><td>61.19531</td><td>79.97017</td><td>28.6145</td><td>77.38899</td><td>43.3126</td><td>72.93546</td><td>43.13071</td><td>84.48577</td></tr>\n",
       "\t<tr><th scope=row>2</th><td>64.33294</td><td>34.97008</td><td>29.94928</td><td>33.44871</td><td>58.85617</td><td>35.27435</td><td>70.72272</td><td>36.18717</td><td>36.03472</td><td>34.36153</td><td>24.47251</td><td>33.14444</td><td>53.9874</td><td>28.27595</td><td>78.63421</td><td>30.40592</td><td>42.72885</td><td>26.14604</td><td>16.86536</td><td>27.05886</td><td>48.2063</td><td>55.66094</td><td>56.42145</td><td>76.352</td><td>35.12238</td><td>76.04766</td><td>46.6846</td><td>70.26655</td><td>45.46791</td><td>85.48017</td></tr>\n",
       "</tbody>\n",
       "</table>\n"
      ],
      "text/latex": [
       "\\begin{tabular}{r|llllllllllllllllllllllllllllll}\n",
       "  & left_eye_center_x & left_eye_center_y & right_eye_center_x & right_eye_center_y & left_eye_inner_corner_x & left_eye_inner_corner_y & left_eye_outer_corner_x & left_eye_outer_corner_y & right_eye_inner_corner_x & right_eye_inner_corner_y & right_eye_outer_corner_x & right_eye_outer_corner_y & left_eyebrow_inner_end_x & left_eyebrow_inner_end_y & left_eyebrow_outer_end_x & left_eyebrow_outer_end_y & right_eyebrow_inner_end_x & right_eyebrow_inner_end_y & right_eyebrow_outer_end_x & right_eyebrow_outer_end_y & nose_tip_x & nose_tip_y & mouth_left_corner_x & mouth_left_corner_y & mouth_right_corner_x & mouth_right_corner_y & mouth_center_top_lip_x & mouth_center_top_lip_y & mouth_center_bottom_lip_x & mouth_center_bottom_lip_y\\\\\n",
       "\\hline\n",
       "\t1 & 66.03356 & 39.00227 & 30.22701 & 36.42168 & 59.58208 & 39.64742 & 73.13035 & 39.97 & 36.35657 & 37.3894 & 23.45287 & 37.3894 & 56.95326 & 29.03365 & 80.22713 & 32.22814 & 40.22761 & 29.00232 & 16.35638 & 29.64747 & 44.42057 & 57.0668 & 61.19531 & 79.97017 & 28.6145 & 77.38899 & 43.3126 & 72.93546 & 43.13071 & 84.48577\\\\\n",
       "\t2 & 64.33294 & 34.97008 & 29.94928 & 33.44871 & 58.85617 & 35.27435 & 70.72272 & 36.18717 & 36.03472 & 34.36153 & 24.47251 & 33.14444 & 53.9874 & 28.27595 & 78.63421 & 30.40592 & 42.72885 & 26.14604 & 16.86536 & 27.05886 & 48.2063 & 55.66094 & 56.42145 & 76.352 & 35.12238 & 76.04766 & 46.6846 & 70.26655 & 45.46791 & 85.48017\\\\\n",
       "\\end{tabular}\n"
      ],
      "text/plain": [
       "  left_eye_center_x left_eye_center_y right_eye_center_x right_eye_center_y\n",
       "1          66.03356          39.00227           30.22701           36.42168\n",
       "2          64.33294          34.97008           29.94928           33.44871\n",
       "  left_eye_inner_corner_x left_eye_inner_corner_y left_eye_outer_corner_x\n",
       "1                59.58208                39.64742                73.13035\n",
       "2                58.85617                35.27435                70.72272\n",
       "  left_eye_outer_corner_y right_eye_inner_corner_x right_eye_inner_corner_y\n",
       "1                39.97000                 36.35657                 37.38940\n",
       "2                36.18717                 36.03472                 34.36153\n",
       "  right_eye_outer_corner_x right_eye_outer_corner_y left_eyebrow_inner_end_x\n",
       "1                 23.45287                 37.38940                 56.95326\n",
       "2                 24.47251                 33.14444                 53.98740\n",
       "  left_eyebrow_inner_end_y left_eyebrow_outer_end_x left_eyebrow_outer_end_y\n",
       "1                 29.03365                 80.22713                 32.22814\n",
       "2                 28.27595                 78.63421                 30.40592\n",
       "  right_eyebrow_inner_end_x right_eyebrow_inner_end_y right_eyebrow_outer_end_x\n",
       "1                  40.22761                  29.00232                  16.35638\n",
       "2                  42.72885                  26.14604                  16.86536\n",
       "  right_eyebrow_outer_end_y nose_tip_x nose_tip_y mouth_left_corner_x\n",
       "1                  29.64747   44.42057   57.06680            61.19531\n",
       "2                  27.05886   48.20630   55.66094            56.42145\n",
       "  mouth_left_corner_y mouth_right_corner_x mouth_right_corner_y\n",
       "1            79.97017             28.61450             77.38899\n",
       "2            76.35200             35.12238             76.04766\n",
       "  mouth_center_top_lip_x mouth_center_top_lip_y mouth_center_bottom_lip_x\n",
       "1                43.3126               72.93546                  43.13071\n",
       "2                46.6846               70.26655                  45.46791\n",
       "  mouth_center_bottom_lip_y\n",
       "1                  84.48577\n",
       "2                  85.48017"
      ]
     },
     "execution_count": 7,
     "metadata": {},
     "output_type": "execute_result"
    }
   ],
   "source": [
    "head(dTrain, 2)"
   ]
  },
  {
   "cell_type": "markdown",
   "metadata": {},
   "source": [
    "## Test Set"
   ]
  },
  {
   "cell_type": "code",
   "execution_count": 8,
   "metadata": {
    "collapsed": false
   },
   "outputs": [
    {
     "data": {
      "text/html": [
       "<ol class=list-inline>\n",
       "\t<li>1783</li>\n",
       "\t<li>2</li>\n",
       "</ol>\n"
      ],
      "text/latex": [
       "\\begin{enumerate*}\n",
       "\\item 1783\n",
       "\\item 2\n",
       "\\end{enumerate*}\n"
      ],
      "text/markdown": [
       "1. 1783\n",
       "2. 2\n",
       "\n",
       "\n"
      ],
      "text/plain": [
       "[1] 1783    2"
      ]
     },
     "execution_count": 8,
     "metadata": {},
     "output_type": "execute_result"
    }
   ],
   "source": [
    "dTest  <- read.csv(testFile, stringsAsFactors=FALSE)\n",
    "dim(dTest)"
   ]
  },
  {
   "cell_type": "code",
   "execution_count": 9,
   "metadata": {
    "collapsed": false
   },
   "outputs": [
    {
     "name": "stdout",
     "output_type": "stream",
     "text": [
      "'data.frame':\t1783 obs. of  2 variables:\n",
      " $ ImageId: int  1 2 3 4 5 6 7 8 9 10 ...\n",
      " $ Image  : chr  \"182 183 182 182 180 180 176 169 156 137 124 103 79 62 54 56 58 48 49 45 39 37 42 43 52 61 78 93 104 107 114 115 117 122 120 122\"| __truncated__ \"76 87 81 72 65 59 64 76 69 42 31 38 49 58 58 47 37 33 32 33 35 50 55 54 50 51 61 78 92 100 101 79 55 47 52 50 47 39 38 52 46 25\"| __truncated__ \"177 176 174 170 169 169 168 166 166 166 161 140 69 5 1 2 1 18 61 96 110 122 129 129 127 125 125 119 112 110 111 107 102 102 99 \"| __truncated__ \"176 174 174 175 174 174 176 176 175 171 165 157 143 134 134 137 138 137 135 135 134 137 135 128 128 129 122 110 107 112 115 123\"| __truncated__ ...\n"
     ]
    }
   ],
   "source": [
    "str(dTest)"
   ]
  },
  {
   "cell_type": "code",
   "execution_count": 10,
   "metadata": {
    "collapsed": false
   },
   "outputs": [
    {
     "data": {
      "text/html": [
       "<ol class=list-inline>\n",
       "\t<li>1783</li>\n",
       "\t<li>9216</li>\n",
       "</ol>\n"
      ],
      "text/latex": [
       "\\begin{enumerate*}\n",
       "\\item 1783\n",
       "\\item 9216\n",
       "\\end{enumerate*}\n"
      ],
      "text/markdown": [
       "1. 1783\n",
       "2. 9216\n",
       "\n",
       "\n"
      ],
      "text/plain": [
       "[1] 1783 9216"
      ]
     },
     "execution_count": 10,
     "metadata": {},
     "output_type": "execute_result"
    }
   ],
   "source": [
    "imTest <- foreach(im = dTest$Image, .combine=rbind) %dopar%\n",
    "{\n",
    "  as.integer(unlist(strsplit(im, \" \")))\n",
    "}\n",
    "dTest$Image <- NULL\n",
    "dim(imTest)"
   ]
  },
  {
   "cell_type": "markdown",
   "metadata": {},
   "source": [
    "## Save to R data file\n",
    "\n",
    "\"d\" for data and \"im\" for images in the following variables.  \n",
    "\n",
    "Use separate variables for image data and remaining facial keypoints data."
   ]
  },
  {
   "cell_type": "code",
   "execution_count": 11,
   "metadata": {
    "collapsed": true
   },
   "outputs": [],
   "source": [
    "save(dTrain, imTrain, dTest, imTest, \n",
    "     file=file.path(dataDir, 'kaggle-facial-keypoints-data.Rd'))"
   ]
  },
  {
   "cell_type": "markdown",
   "metadata": {},
   "source": [
    "## Create image files\n",
    "\n",
    "Convert from integer vectors to images for use in programs that compute image features. \n",
    "\n",
    "Create directories first, if needed.\n",
    "### PNGs"
   ]
  },
  {
   "cell_type": "code",
   "execution_count": 12,
   "metadata": {
    "collapsed": false
   },
   "outputs": [],
   "source": [
    "if (!file.exists(imageDir))\n",
    "{\n",
    "  dir.create(imageDir) \n",
    "}\n",
    "\n",
    "if (!file.exists(file.path(imageDir)))\n",
    "{\n",
    "  dir.create(file.path(imageDir)) \n",
    "}\n",
    "\n",
    "trainDir <- file.path(imageDir, \"TRAIN\")\n",
    "if (!file.exists(trainDir))\n",
    "{\n",
    "  dir.create(trainDir) \n",
    "}\n",
    "\n",
    "testDir  <- file.path(imageDir, \"TEST\")\n",
    "if (!file.exists(testDir))\n",
    "{\n",
    "  dir.create(testDir) \n",
    "}"
   ]
  },
  {
   "cell_type": "code",
   "execution_count": 13,
   "metadata": {
    "collapsed": false
   },
   "outputs": [],
   "source": [
    "for (i in 1:nrow(imTrain)) \n",
    "{\n",
    "  im <- t(matrix(data=rev(imTrain[i,]), nrow=96, ncol=96)) / 255\n",
    "  writePNG(im[96:1,], file.path(imageDir, sprintf(\"TRAIN/TRAIN-%04d.png\", i)))\n",
    "}\n",
    "\n",
    "for (i in 1:nrow(imTest))\n",
    "{\n",
    "  im <- t(matrix(data=rev(imTest[i,]), nrow=96, ncol=96)) / 255\n",
    "  writePNG(im[96:1,], file.path(imageDir, sprintf(\"TEST/TEST-%04d.png\", i)))\n",
    "}"
   ]
  },
  {
   "cell_type": "markdown",
   "metadata": {},
   "source": [
    "## Finalization"
   ]
  },
  {
   "cell_type": "code",
   "execution_count": 14,
   "metadata": {
    "collapsed": false
   },
   "outputs": [
    {
     "name": "stdout",
     "output_type": "stream",
     "text": [
      "2015-11-29 15:02:23 \n",
      "Time difference of 2.706093 mins\n"
     ]
    }
   ],
   "source": [
    "stopCluster(rCluster)\n",
    "\n",
    "time2 <- Sys.time()          \n",
    "cat(format(time2, \"%Y-%m-%d %H:%M:%S\"), \"\\n\")\n",
    "\n",
    "print(time2 - time1)"
   ]
  }
 ],
 "metadata": {
  "kernelspec": {
   "display_name": "R",
   "language": "R",
   "name": "ir"
  },
  "language_info": {
   "codemirror_mode": "r",
   "file_extension": ".r",
   "mimetype": "text/x-r-source",
   "name": "R",
   "pygments_lexer": "r",
   "version": "3.1.3"
  }
 },
 "nbformat": 4,
 "nbformat_minor": 0
}
